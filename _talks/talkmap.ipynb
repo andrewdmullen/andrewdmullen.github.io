{
 "cells": [
  {
   "cell_type": "markdown",
   "metadata": {},
   "source": [
    "# Leaflet cluster map of talk locations\n",
    "\n",
    "Run this from the _talks/ directory, which contains .md files of all your talks. This scrapes the location YAML field from each .md file, geolocates it with geopy/Nominatim, and uses the getorg library to output data, HTML, and Javascript for a standalone cluster map."
   ]
  },
  {
   "cell_type": "code",
   "execution_count": 1,
   "metadata": {
    "collapsed": false,
    "jupyter": {
     "outputs_hidden": false
    }
   },
   "outputs": [
    {
     "name": "stdout",
     "output_type": "stream",
     "text": [
      "Defaulting to user installation because normal site-packages is not writeable\n",
      "Requirement already satisfied: getorg in /Users/adm/Library/Python/3.9/lib/python/site-packages (0.3.1)\n",
      "Requirement already satisfied: retrying in /Users/adm/Library/Python/3.9/lib/python/site-packages (from getorg) (1.3.4)\n",
      "Requirement already satisfied: pygithub in /Users/adm/Library/Python/3.9/lib/python/site-packages (from getorg) (1.58.0)\n",
      "Requirement already satisfied: geopy in /Users/adm/Library/Python/3.9/lib/python/site-packages (from getorg) (2.3.0)\n",
      "Requirement already satisfied: geographiclib<3,>=1.52 in /Users/adm/Library/Python/3.9/lib/python/site-packages (from geopy->getorg) (2.0)\n",
      "Requirement already satisfied: deprecated in /Users/adm/Library/Python/3.9/lib/python/site-packages (from pygithub->getorg) (1.2.13)\n",
      "Requirement already satisfied: pynacl>=1.4.0 in /Users/adm/Library/Python/3.9/lib/python/site-packages (from pygithub->getorg) (1.5.0)\n",
      "Requirement already satisfied: pyjwt>=2.4.0 in /Users/adm/Library/Python/3.9/lib/python/site-packages (from pygithub->getorg) (2.6.0)\n",
      "Requirement already satisfied: requests>=2.14.0 in /Users/adm/Library/Python/3.9/lib/python/site-packages (from pygithub->getorg) (2.28.2)\n",
      "Requirement already satisfied: six>=1.7.0 in /Library/Developer/CommandLineTools/Library/Frameworks/Python3.framework/Versions/3.9/lib/python3.9/site-packages (from retrying->getorg) (1.15.0)\n",
      "Requirement already satisfied: cffi>=1.4.1 in /Users/adm/Library/Python/3.9/lib/python/site-packages (from pynacl>=1.4.0->pygithub->getorg) (1.15.1)\n",
      "Requirement already satisfied: idna<4,>=2.5 in /Users/adm/Library/Python/3.9/lib/python/site-packages (from requests>=2.14.0->pygithub->getorg) (3.4)\n",
      "Requirement already satisfied: urllib3<1.27,>=1.21.1 in /Users/adm/Library/Python/3.9/lib/python/site-packages (from requests>=2.14.0->pygithub->getorg) (1.26.14)\n",
      "Requirement already satisfied: charset-normalizer<4,>=2 in /Users/adm/Library/Python/3.9/lib/python/site-packages (from requests>=2.14.0->pygithub->getorg) (3.0.1)\n",
      "Requirement already satisfied: certifi>=2017.4.17 in /Users/adm/Library/Python/3.9/lib/python/site-packages (from requests>=2.14.0->pygithub->getorg) (2022.12.7)\n",
      "Requirement already satisfied: wrapt<2,>=1.10 in /Users/adm/Library/Python/3.9/lib/python/site-packages (from deprecated->pygithub->getorg) (1.15.0)\n",
      "Requirement already satisfied: pycparser in /Users/adm/Library/Python/3.9/lib/python/site-packages (from cffi>=1.4.1->pynacl>=1.4.0->pygithub->getorg) (2.21)\n",
      "IPywidgets and ipyleaflet support enabled.\n"
     ]
    }
   ],
   "source": [
    "!pip install getorg --upgrade\n",
    "import glob\n",
    "import getorg\n",
    "from geopy import Nominatim"
   ]
  },
  {
   "cell_type": "code",
   "execution_count": 2,
   "metadata": {
    "collapsed": false,
    "jupyter": {
     "outputs_hidden": false
    }
   },
   "outputs": [],
   "source": [
    "g = glob.glob(\"*.md\")"
   ]
  },
  {
   "cell_type": "code",
   "execution_count": 3,
   "metadata": {
    "tags": []
   },
   "outputs": [
    {
     "ename": "ConfigurationError",
     "evalue": "Using Nominatim with default or sample `user_agent` \"geopy/2.3.0\" is strongly discouraged, as it violates Nominatim's ToS https://operations.osmfoundation.org/policies/nominatim/ and may possibly cause 403 and 429 HTTP errors. Please specify a custom `user_agent` with `Nominatim(user_agent=\"my-application\")` or by overriding the default `user_agent`: `geopy.geocoders.options.default_user_agent = \"my-application\"`.",
     "output_type": "error",
     "traceback": [
      "\u001b[0;31m---------------------------------------------------------------------------\u001b[0m",
      "\u001b[0;31mConfigurationError\u001b[0m                        Traceback (most recent call last)",
      "Cell \u001b[0;32mIn[3], line 1\u001b[0m\n\u001b[0;32m----> 1\u001b[0m geocoder \u001b[38;5;241m=\u001b[39m \u001b[43mNominatim\u001b[49m\u001b[43m(\u001b[49m\u001b[43m)\u001b[49m\n\u001b[1;32m      2\u001b[0m location_dict \u001b[38;5;241m=\u001b[39m {}\n\u001b[1;32m      3\u001b[0m location \u001b[38;5;241m=\u001b[39m \u001b[38;5;124m\"\u001b[39m\u001b[38;5;124m\"\u001b[39m\n",
      "File \u001b[0;32m~/Library/Python/3.9/lib/python/site-packages/geopy/geocoders/nominatim.py:105\u001b[0m, in \u001b[0;36mNominatim.__init__\u001b[0;34m(self, timeout, proxies, domain, scheme, user_agent, ssl_context, adapter_factory)\u001b[0m\n\u001b[1;32m    101\u001b[0m \u001b[38;5;28mself\u001b[39m\u001b[38;5;241m.\u001b[39mdomain \u001b[38;5;241m=\u001b[39m domain\u001b[38;5;241m.\u001b[39mstrip(\u001b[38;5;124m'\u001b[39m\u001b[38;5;124m/\u001b[39m\u001b[38;5;124m'\u001b[39m)\n\u001b[1;32m    103\u001b[0m \u001b[38;5;28;01mif\u001b[39;00m (\u001b[38;5;28mself\u001b[39m\u001b[38;5;241m.\u001b[39mdomain \u001b[38;5;241m==\u001b[39m _DEFAULT_NOMINATIM_DOMAIN\n\u001b[1;32m    104\u001b[0m         \u001b[38;5;129;01mand\u001b[39;00m \u001b[38;5;28mself\u001b[39m\u001b[38;5;241m.\u001b[39mheaders[\u001b[38;5;124m'\u001b[39m\u001b[38;5;124mUser-Agent\u001b[39m\u001b[38;5;124m'\u001b[39m] \u001b[38;5;129;01min\u001b[39;00m _REJECTED_USER_AGENTS):\n\u001b[0;32m--> 105\u001b[0m     \u001b[38;5;28;01mraise\u001b[39;00m ConfigurationError(\n\u001b[1;32m    106\u001b[0m         \u001b[38;5;124m'\u001b[39m\u001b[38;5;124mUsing Nominatim with default or sample `user_agent` \u001b[39m\u001b[38;5;124m\"\u001b[39m\u001b[38;5;132;01m%s\u001b[39;00m\u001b[38;5;124m\"\u001b[39m\u001b[38;5;124m is \u001b[39m\u001b[38;5;124m'\u001b[39m\n\u001b[1;32m    107\u001b[0m         \u001b[38;5;124m'\u001b[39m\u001b[38;5;124mstrongly discouraged, as it violates Nominatim\u001b[39m\u001b[38;5;130;01m\\'\u001b[39;00m\u001b[38;5;124ms ToS \u001b[39m\u001b[38;5;124m'\u001b[39m\n\u001b[1;32m    108\u001b[0m         \u001b[38;5;124m'\u001b[39m\u001b[38;5;124mhttps://operations.osmfoundation.org/policies/nominatim/ \u001b[39m\u001b[38;5;124m'\u001b[39m\n\u001b[1;32m    109\u001b[0m         \u001b[38;5;124m'\u001b[39m\u001b[38;5;124mand may possibly cause 403 and 429 HTTP errors. \u001b[39m\u001b[38;5;124m'\u001b[39m\n\u001b[1;32m    110\u001b[0m         \u001b[38;5;124m'\u001b[39m\u001b[38;5;124mPlease specify a custom `user_agent` with \u001b[39m\u001b[38;5;124m'\u001b[39m\n\u001b[1;32m    111\u001b[0m         \u001b[38;5;124m'\u001b[39m\u001b[38;5;124m`Nominatim(user_agent=\u001b[39m\u001b[38;5;124m\"\u001b[39m\u001b[38;5;124mmy-application\u001b[39m\u001b[38;5;124m\"\u001b[39m\u001b[38;5;124m)` or by \u001b[39m\u001b[38;5;124m'\u001b[39m\n\u001b[1;32m    112\u001b[0m         \u001b[38;5;124m'\u001b[39m\u001b[38;5;124moverriding the default `user_agent`: \u001b[39m\u001b[38;5;124m'\u001b[39m\n\u001b[1;32m    113\u001b[0m         \u001b[38;5;124m'\u001b[39m\u001b[38;5;124m`geopy.geocoders.options.default_user_agent = \u001b[39m\u001b[38;5;124m\"\u001b[39m\u001b[38;5;124mmy-application\u001b[39m\u001b[38;5;124m\"\u001b[39m\u001b[38;5;124m`.\u001b[39m\u001b[38;5;124m'\u001b[39m\n\u001b[1;32m    114\u001b[0m         \u001b[38;5;241m%\u001b[39m \u001b[38;5;28mself\u001b[39m\u001b[38;5;241m.\u001b[39mheaders[\u001b[38;5;124m'\u001b[39m\u001b[38;5;124mUser-Agent\u001b[39m\u001b[38;5;124m'\u001b[39m]\n\u001b[1;32m    115\u001b[0m     )\n\u001b[1;32m    117\u001b[0m \u001b[38;5;28mself\u001b[39m\u001b[38;5;241m.\u001b[39mapi \u001b[38;5;241m=\u001b[39m \u001b[38;5;124m\"\u001b[39m\u001b[38;5;132;01m%s\u001b[39;00m\u001b[38;5;124m://\u001b[39m\u001b[38;5;132;01m%s\u001b[39;00m\u001b[38;5;132;01m%s\u001b[39;00m\u001b[38;5;124m\"\u001b[39m \u001b[38;5;241m%\u001b[39m (\u001b[38;5;28mself\u001b[39m\u001b[38;5;241m.\u001b[39mscheme, \u001b[38;5;28mself\u001b[39m\u001b[38;5;241m.\u001b[39mdomain, \u001b[38;5;28mself\u001b[39m\u001b[38;5;241m.\u001b[39mgeocode_path)\n\u001b[1;32m    118\u001b[0m \u001b[38;5;28mself\u001b[39m\u001b[38;5;241m.\u001b[39mreverse_api \u001b[38;5;241m=\u001b[39m \u001b[38;5;124m\"\u001b[39m\u001b[38;5;132;01m%s\u001b[39;00m\u001b[38;5;124m://\u001b[39m\u001b[38;5;132;01m%s\u001b[39;00m\u001b[38;5;132;01m%s\u001b[39;00m\u001b[38;5;124m\"\u001b[39m \u001b[38;5;241m%\u001b[39m (\u001b[38;5;28mself\u001b[39m\u001b[38;5;241m.\u001b[39mscheme, \u001b[38;5;28mself\u001b[39m\u001b[38;5;241m.\u001b[39mdomain, \u001b[38;5;28mself\u001b[39m\u001b[38;5;241m.\u001b[39mreverse_path)\n",
      "\u001b[0;31mConfigurationError\u001b[0m: Using Nominatim with default or sample `user_agent` \"geopy/2.3.0\" is strongly discouraged, as it violates Nominatim's ToS https://operations.osmfoundation.org/policies/nominatim/ and may possibly cause 403 and 429 HTTP errors. Please specify a custom `user_agent` with `Nominatim(user_agent=\"my-application\")` or by overriding the default `user_agent`: `geopy.geocoders.options.default_user_agent = \"my-application\"`."
     ]
    }
   ],
   "source": [
    "geocoder = Nominatim()\n",
    "location_dict = {}\n",
    "location = \"\"\n",
    "permalink = \"\"\n",
    "title = \"\""
   ]
  },
  {
   "cell_type": "code",
   "execution_count": null,
   "metadata": {
    "collapsed": false,
    "jupyter": {
     "outputs_hidden": false
    }
   },
   "outputs": [],
   "source": [
    "\n",
    "for file in g:\n",
    "    with open(file, 'r') as f:\n",
    "        lines = f.read()\n",
    "        if lines.find('location: \"') > 1:\n",
    "            loc_start = lines.find('location: \"') + 11\n",
    "            lines_trim = lines[loc_start:]\n",
    "            loc_end = lines_trim.find('\"')\n",
    "            location = lines_trim[:loc_end]\n",
    "                            \n",
    "           \n",
    "        location_dict[location] = geocoder.geocode(location)\n",
    "        print(location, \"\\n\", location_dict[location])\n"
   ]
  },
  {
   "cell_type": "code",
   "execution_count": null,
   "metadata": {
    "collapsed": false,
    "jupyter": {
     "outputs_hidden": false
    }
   },
   "outputs": [],
   "source": [
    "m = getorg.orgmap.create_map_obj()\n",
    "getorg.orgmap.output_html_cluster_map(location_dict, folder_name=\"../talkmap\", hashed_usernames=False)"
   ]
  },
  {
   "cell_type": "code",
   "execution_count": 6,
   "metadata": {
    "tags": []
   },
   "outputs": [
    {
     "name": "stdout",
     "output_type": "stream",
     "text": [
      "Help on class Nominatim in module geopy.geocoders.nominatim:\n",
      "\n",
      "class Nominatim(geopy.geocoders.base.Geocoder)\n",
      " |  Nominatim(*, timeout=DEFAULT_SENTINEL, proxies=DEFAULT_SENTINEL, domain='nominatim.openstreetmap.org', scheme=None, user_agent=None, ssl_context=DEFAULT_SENTINEL, adapter_factory=None)\n",
      " |  \n",
      " |  Nominatim geocoder for OpenStreetMap data.\n",
      " |  \n",
      " |  Documentation at:\n",
      " |      https://nominatim.org/release-docs/develop/api/Overview/\n",
      " |  \n",
      " |  .. attention::\n",
      " |     Using Nominatim with the default `user_agent` is strongly discouraged,\n",
      " |     as it violates Nominatim's Usage Policy\n",
      " |     https://operations.osmfoundation.org/policies/nominatim/\n",
      " |     and may possibly cause 403 and 429 HTTP errors. Please make sure\n",
      " |     to specify a custom `user_agent` with\n",
      " |     ``Nominatim(user_agent=\"my-application\")`` or by\n",
      " |     overriding the default `user_agent`:\n",
      " |     ``geopy.geocoders.options.default_user_agent = \"my-application\"``.\n",
      " |     An exception will be thrown if a custom `user_agent` is not specified.\n",
      " |  \n",
      " |  Method resolution order:\n",
      " |      Nominatim\n",
      " |      geopy.geocoders.base.Geocoder\n",
      " |      builtins.object\n",
      " |  \n",
      " |  Methods defined here:\n",
      " |  \n",
      " |  __init__(self, *, timeout=DEFAULT_SENTINEL, proxies=DEFAULT_SENTINEL, domain='nominatim.openstreetmap.org', scheme=None, user_agent=None, ssl_context=DEFAULT_SENTINEL, adapter_factory=None)\n",
      " |      :param int timeout:\n",
      " |          See :attr:`geopy.geocoders.options.default_timeout`.\n",
      " |      \n",
      " |      :param dict proxies:\n",
      " |          See :attr:`geopy.geocoders.options.default_proxies`.\n",
      " |      \n",
      " |      :param str domain: Domain where the target Nominatim service\n",
      " |          is hosted.\n",
      " |      \n",
      " |      :param str scheme:\n",
      " |          See :attr:`geopy.geocoders.options.default_scheme`.\n",
      " |      \n",
      " |      :param str user_agent:\n",
      " |          See :attr:`geopy.geocoders.options.default_user_agent`.\n",
      " |      \n",
      " |      :type ssl_context: :class:`ssl.SSLContext`\n",
      " |      :param ssl_context:\n",
      " |          See :attr:`geopy.geocoders.options.default_ssl_context`.\n",
      " |      \n",
      " |      :param callable adapter_factory:\n",
      " |          See :attr:`geopy.geocoders.options.default_adapter_factory`.\n",
      " |      \n",
      " |          .. versionadded:: 2.0\n",
      " |  \n",
      " |  geocode(self, query, *, exactly_one=True, timeout=DEFAULT_SENTINEL, limit=None, addressdetails=False, language=False, geometry=None, extratags=False, country_codes=None, viewbox=None, bounded=False, featuretype=None, namedetails=False)\n",
      " |      Return a location point by address.\n",
      " |      \n",
      " |      :param query: The address, query or a structured query\n",
      " |          you wish to geocode.\n",
      " |      \n",
      " |          For a structured query, provide a dictionary whose keys\n",
      " |          are one of: `street`, `city`, `county`, `state`, `country`, or\n",
      " |          `postalcode`. For more information, see Nominatim's\n",
      " |          documentation for `structured requests`:\n",
      " |      \n",
      " |              https://nominatim.org/release-docs/develop/api/Search\n",
      " |      \n",
      " |      :type query: dict or str\n",
      " |      \n",
      " |      :param bool exactly_one: Return one result or a list of results, if\n",
      " |          available.\n",
      " |      \n",
      " |      :param int timeout: Time, in seconds, to wait for the geocoding service\n",
      " |          to respond before raising a :class:`geopy.exc.GeocoderTimedOut`\n",
      " |          exception. Set this only if you wish to override, on this call\n",
      " |          only, the value set during the geocoder's initialization.\n",
      " |      \n",
      " |      :param int limit: Maximum amount of results to return from Nominatim.\n",
      " |          Unless exactly_one is set to False, limit will always be 1.\n",
      " |      \n",
      " |      :param bool addressdetails: If you want in *Location.raw* to include\n",
      " |          address details such as house_number, city_district, postcode, etc\n",
      " |          (in a structured form) set it to True\n",
      " |      \n",
      " |      :param str language: Preferred language in which to return results.\n",
      " |          Either uses standard\n",
      " |          `RFC2616 <http://www.ietf.org/rfc/rfc2616.txt>`_\n",
      " |          accept-language string or a simple comma-separated\n",
      " |          list of language codes.\n",
      " |      \n",
      " |      :param str geometry: If present, specifies whether the geocoding\n",
      " |          service should return the result's geometry in `wkt`, `svg`,\n",
      " |          `kml`, or `geojson` formats. This is available via the\n",
      " |          `raw` attribute on the returned :class:`geopy.location.Location`\n",
      " |          object.\n",
      " |      \n",
      " |      :param bool extratags: Include additional information in the result if available,\n",
      " |          e.g. wikipedia link, opening hours.\n",
      " |      \n",
      " |      :param country_codes: Limit search results\n",
      " |          to a specific country (or a list of countries).\n",
      " |          A country_code should be the ISO 3166-1alpha2 code,\n",
      " |          e.g. ``gb`` for the United Kingdom, ``de`` for Germany, etc.\n",
      " |      \n",
      " |      :type country_codes: str or list\n",
      " |      \n",
      " |      :type viewbox: list or tuple of 2 items of :class:`geopy.point.Point` or\n",
      " |          ``(latitude, longitude)`` or ``\"%(latitude)s, %(longitude)s\"``.\n",
      " |      \n",
      " |      :param viewbox: Prefer this area to find search results. By default this is\n",
      " |          treated as a hint, if you want to restrict results to this area,\n",
      " |          specify ``bounded=True`` as well.\n",
      " |          Example: ``[Point(22, 180), Point(-22, -180)]``.\n",
      " |      \n",
      " |      :param bool bounded: Restrict the results to only items contained\n",
      " |          within the bounding ``viewbox``.\n",
      " |      \n",
      " |      :param str featuretype: If present, restrict results to certain type of features.\n",
      " |          Allowed values: `country`, `state`, `city`, `settlement`.\n",
      " |      \n",
      " |      :param bool namedetails: If you want in *Location.raw* to include\n",
      " |          namedetails, set it to True. This will be a list of alternative names,\n",
      " |          including language variants, etc.\n",
      " |      \n",
      " |      :rtype: ``None``, :class:`geopy.location.Location` or a list of them, if\n",
      " |          ``exactly_one=False``.\n",
      " |  \n",
      " |  reverse(self, query, *, exactly_one=True, timeout=DEFAULT_SENTINEL, language=False, addressdetails=True, zoom=None, namedetails=False)\n",
      " |      Return an address by location point.\n",
      " |      \n",
      " |      :param query: The coordinates for which you wish to obtain the\n",
      " |          closest human-readable addresses.\n",
      " |      :type query: :class:`geopy.point.Point`, list or tuple of ``(latitude,\n",
      " |          longitude)``, or string as ``\"%(latitude)s, %(longitude)s\"``.\n",
      " |      \n",
      " |      :param bool exactly_one: Return one result or a list of results, if\n",
      " |          available.\n",
      " |      \n",
      " |      :param int timeout: Time, in seconds, to wait for the geocoding service\n",
      " |          to respond before raising a :class:`geopy.exc.GeocoderTimedOut`\n",
      " |          exception. Set this only if you wish to override, on this call\n",
      " |          only, the value set during the geocoder's initialization.\n",
      " |      \n",
      " |      :param str language: Preferred language in which to return results.\n",
      " |          Either uses standard\n",
      " |          `RFC2616 <http://www.ietf.org/rfc/rfc2616.txt>`_\n",
      " |          accept-language string or a simple comma-separated\n",
      " |          list of language codes.\n",
      " |      \n",
      " |      :param bool addressdetails: Whether or not to include address details,\n",
      " |          such as city, county, state, etc. in *Location.raw*\n",
      " |      \n",
      " |      :param int zoom: Level of detail required for the address,\n",
      " |          an integer in range from 0 (country level) to 18 (building level),\n",
      " |          default is 18.\n",
      " |      \n",
      " |      :param bool namedetails: If you want in *Location.raw* to include\n",
      " |          namedetails, set it to True. This will be a list of alternative names,\n",
      " |          including language variants, etc.\n",
      " |      \n",
      " |          .. versionadded:: 2.3\n",
      " |      \n",
      " |      :rtype: ``None``, :class:`geopy.location.Location` or a list of them, if\n",
      " |          ``exactly_one=False``.\n",
      " |  \n",
      " |  ----------------------------------------------------------------------\n",
      " |  Data and other attributes defined here:\n",
      " |  \n",
      " |  geocode_path = '/search'\n",
      " |  \n",
      " |  reverse_path = '/reverse'\n",
      " |  \n",
      " |  structured_query_params = {'city', 'country', 'county', 'postalcode', ...\n",
      " |  \n",
      " |  ----------------------------------------------------------------------\n",
      " |  Methods inherited from geopy.geocoders.base.Geocoder:\n",
      " |  \n",
      " |  async __aenter__(self)\n",
      " |      Context manager for asynchronous adapters. At exit all\n",
      " |      open connections will be closed.\n",
      " |      \n",
      " |      In asynchronous mode context manager usage is not required,\n",
      " |      however, it is strongly advised to avoid warnings about\n",
      " |      resources leaks.\n",
      " |  \n",
      " |  async __aexit__(self, exc_type, exc_val, exc_tb)\n",
      " |  \n",
      " |  __enter__(self)\n",
      " |      Context manager for synchronous adapters. At exit all\n",
      " |      open connections will be closed.\n",
      " |      \n",
      " |      In synchronous mode context manager usage is not required,\n",
      " |      and connections will be automatically closed by garbage collection.\n",
      " |  \n",
      " |  __exit__(self, exc_type, exc_val, exc_tb)\n",
      " |  \n",
      " |  ----------------------------------------------------------------------\n",
      " |  Data descriptors inherited from geopy.geocoders.base.Geocoder:\n",
      " |  \n",
      " |  __dict__\n",
      " |      dictionary for instance variables (if defined)\n",
      " |  \n",
      " |  __weakref__\n",
      " |      list of weak references to the object (if defined)\n",
      "\n"
     ]
    }
   ],
   "source": [
    "help(Nominatim)"
   ]
  }
 ],
 "metadata": {
  "anaconda-cloud": {},
  "kernelspec": {
   "display_name": "Python 3 (ipykernel)",
   "language": "python",
   "name": "python3"
  },
  "language_info": {
   "codemirror_mode": {
    "name": "ipython",
    "version": 3
   },
   "file_extension": ".py",
   "mimetype": "text/x-python",
   "name": "python",
   "nbconvert_exporter": "python",
   "pygments_lexer": "ipython3",
   "version": "3.9.6"
  }
 },
 "nbformat": 4,
 "nbformat_minor": 4
}
